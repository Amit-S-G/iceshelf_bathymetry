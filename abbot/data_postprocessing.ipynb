{
 "cells": [
  {
   "cell_type": "code",
   "execution_count": 2,
   "metadata": {},
   "outputs": [],
   "source": [
    "import numpy as np\n",
    "import xarray as xr\n",
    "from scipy.interpolate import griddata\n",
    "from tqdm.auto import tqdm\n",
    "from pathlib import Path\n",
    "import verde as vd\n",
    "import os\n",
    "\n",
    "import sys\n",
    "sys.path.append(\"..\")\n",
    "\n",
    "from utilities import lowpass_filter_invpad\n",
    "from postprocessing import *\n",
    "\n",
    "# Run this script to load inversions, upscale them, and save upscaled beds."
   ]
  },
  {
   "cell_type": "code",
   "execution_count": null,
   "metadata": {},
   "outputs": [
    {
     "name": "stdout",
     "output_type": "stream",
     "text": [
      "upscaling beds cd\n",
      " 0 inversions\n"
     ]
    },
    {
     "name": "stderr",
     "output_type": "stream",
     "text": [
      "c:\\Users\\szhan\\anaconda3\\envs\\cryo\\lib\\site-packages\\numpy\\_core\\fromnumeric.py:3596: RuntimeWarning: Mean of empty slice.\n",
      "  return _methods._mean(a, axis=axis, dtype=dtype,\n",
      "c:\\Users\\szhan\\anaconda3\\envs\\cryo\\lib\\site-packages\\numpy\\_core\\_methods.py:130: RuntimeWarning: invalid value encountered in divide\n",
      "  ret = um.true_divide(\n",
      "c:\\Users\\szhan\\anaconda3\\envs\\cryo\\lib\\site-packages\\numpy\\_core\\_methods.py:218: RuntimeWarning: Degrees of freedom <= 0 for slice\n",
      "  ret = _var(a, axis=axis, dtype=dtype, out=out, ddof=ddof,\n",
      "c:\\Users\\szhan\\anaconda3\\envs\\cryo\\lib\\site-packages\\numpy\\_core\\_methods.py:175: RuntimeWarning: invalid value encountered in divide\n",
      "  arrmean = um.true_divide(arrmean, div, out=arrmean,\n",
      "c:\\Users\\szhan\\anaconda3\\envs\\cryo\\lib\\site-packages\\numpy\\_core\\_methods.py:207: RuntimeWarning: invalid value encountered in divide\n",
      "  ret = um.true_divide(\n"
     ]
    },
    {
     "data": {
      "application/vnd.jupyter.widget-view+json": {
       "model_id": "f2f991ee1b534b1d80c148098eb1f704",
       "version_major": 2,
       "version_minor": 0
      },
      "text/plain": [
       "0it [00:00, ?it/s]"
      ]
     },
     "metadata": {},
     "output_type": "display_data"
    },
    {
     "name": "stdout",
     "output_type": "stream",
     "text": [
      "upscaling beds cnd\n",
      " 0 inversions\n"
     ]
    },
    {
     "data": {
      "application/vnd.jupyter.widget-view+json": {
       "model_id": "3b6713b1a452490e9f0883857d95a8a3",
       "version_major": 2,
       "version_minor": 0
      },
      "text/plain": [
       "0it [00:00, ?it/s]"
      ]
     },
     "metadata": {},
     "output_type": "display_data"
    },
    {
     "name": "stdout",
     "output_type": "stream",
     "text": [
      "upscaling beds c determ\n",
      " 0 inversions\n"
     ]
    },
    {
     "data": {
      "application/vnd.jupyter.widget-view+json": {
       "model_id": "d58b4e4acf69461ca2bb324f264397f5",
       "version_major": 2,
       "version_minor": 0
      },
      "text/plain": [
       "0it [00:00, ?it/s]"
      ]
     },
     "metadata": {},
     "output_type": "display_data"
    }
   ],
   "source": [
    "# load preprocessed and original BedMachine\n",
    "res = 4000\n",
    "ds = xr.open_dataset(Path(f'processed_data/xr_{res}.nc'))\n",
    "grid = xr.open_dataset(Path('../raw_data/bedmachine/BedMachineAntarctica-v3.nc'))\n",
    "\n",
    "xx, yy = np.meshgrid(ds.x, ds.y)\n",
    "\n",
    "# trim original BedMachine, get coordinates\n",
    "x_trim = (grid.x >= np.min(xx)) & (grid.x <= np.max(xx))\n",
    "y_trim = (grid.y >= np.min(yy)) & (grid.y <= np.max(yy))\n",
    "grid = grid.sel(x=x_trim, y=y_trim)\n",
    "xx_bm, yy_bm = np.meshgrid(grid.x.values, grid.y.values)\n",
    "\n",
    "# interpolate inversion mask to original resolution\n",
    "kn = vd.KNeighbors(1)\n",
    "kn.fit((xx.flatten(), yy.flatten()), ds.inv_msk.values.flatten())\n",
    "inv_msk_high = kn.predict((xx_bm, yy_bm))\n",
    "inv_msk_high = inv_msk_high.reshape(xx_bm.shape) > 0.5\n",
    "inv_msk_low = ds.inv_msk.values\n",
    "\n",
    "# path to where inversion directories are\n",
    "base_path = Path('processed_data')\n",
    "\n",
    "# save ensemble with conditioning and density\n",
    "print('upscaling beds cd')\n",
    "save_upscale(ds, grid, inv_msk_low, inv_msk_high,\n",
    "                base_path/'cond_dens',\n",
    "                base_path/f'cond_dens_geoid_{res}.nc',\n",
    "                base_path/'cond_dens_geoid_500.nc')\n",
    "\n",
    "# save ensemble with conditioning and no density\n",
    "print('upscaling beds cnd')\n",
    "save_upscale(ds, grid, inv_msk_low, inv_msk_high,\n",
    "                base_path/'cond_nodens',\n",
    "                base_path/f'cond_nodens_geoid_{res}.nc',\n",
    "                base_path/'cond_nodens_geoid_500.nc')\n",
    "\n",
    "# save ensemble with conditioning and no deteministic bouger\n",
    "print('upscaling beds c determ')\n",
    "save_upscale(ds, grid, inv_msk_low, inv_msk_high,\n",
    "                base_path/'cond_deterministic',\n",
    "                base_path/f'cond_determ_geoid_{res}.nc',\n",
    "                base_path/'cond_determ_geoid_500.nc')\n",
    "\n",
    "# # save ensemble with no conditioning and density\n",
    "# print('upscaling beds ucd')\n",
    "# save_upscale(grid, inv_msk_high,\n",
    "#              base_path/'uncond_dens',\n",
    "#              base_path/'uncond_dens_geoid_2000.nc',\n",
    "#              base_path/'uncond_dens_geoid_500.nc')\n",
    "\n",
    "# # save ensemble with no conditioning and no density\n",
    "# print('upscaling beds ucd')\n",
    "# save_upscale(grid, inv_msk_high,\n",
    "#              base_path/'uncond_nodens',\n",
    "#              base_path/'uncond_nodens_geoid_2000.nc',\n",
    "#              base_path/'uncond_nodens_geoid_500.nc')\n",
    "\n",
    "# # save ensemble with no conditioning and no deteministic bouger\n",
    "# print('upscaling beds uc determ')\n",
    "# save_upscale(grid, inv_msk_high,\n",
    "#              base_path/'uncond_deterministic',\n",
    "#              base_path/'uncond_determ_geoid_2000.nc',\n",
    "#              base_path/'uncond_determ_geoid_500.nc')"
   ]
  },
  {
   "cell_type": "code",
   "execution_count": null,
   "metadata": {},
   "outputs": [],
   "source": []
  }
 ],
 "metadata": {
  "kernelspec": {
   "display_name": "cryo",
   "language": "python",
   "name": "python3"
  },
  "language_info": {
   "codemirror_mode": {
    "name": "ipython",
    "version": 3
   },
   "file_extension": ".py",
   "mimetype": "text/x-python",
   "name": "python",
   "nbconvert_exporter": "python",
   "pygments_lexer": "ipython3",
   "version": "3.10.14"
  }
 },
 "nbformat": 4,
 "nbformat_minor": 2
}
